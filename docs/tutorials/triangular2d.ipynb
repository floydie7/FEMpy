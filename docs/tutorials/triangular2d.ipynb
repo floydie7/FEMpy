{
 "cells": [
  {
   "cell_type": "markdown",
   "metadata": {
    "collapsed": true
   },
   "source": [
    ".. _triangular2d\n",
    "\n",
    "2D Poisson Equation with Triangular Elements\n",
    "============================================\n",
    "\n",
    "This tutorial was made with the following version of FEMpy:"
   ]
  },
  {
   "cell_type": "code",
   "execution_count": 1,
   "metadata": {},
   "outputs": [
    {
     "data": {
      "text/plain": [
       "'1.0'"
      ]
     },
     "execution_count": 1,
     "metadata": {},
     "output_type": "execute_result"
    }
   ],
   "source": [
    "import FEMpy\n",
    "FEMpy.__version__"
   ]
  },
  {
   "cell_type": "markdown",
   "metadata": {},
   "source": [
    "FEMpy can solve 2D domains using similar inputs as in the 1D case.  Here we will solve the following problem\n",
    "\n",
    "$$ -\\nabla \\cdot \\left(c(x,y) \\nabla u(x,y)\\right) = f(x,y); (x,y) \\in \\Omega = [-1, 1] \\times [-1, 1]$$\n",
    "\n",
    "where $c(x,y) = 1$ and $f(x,y) = -2 e^{x + y}$ and with boundary conditions\n",
    "\n",
    "$$ u(x,y) = e^{-1 + y} \\text{ for } x = -1, y \\in \\delta\\Omega \\setminus \\Gamma_1 $$\n",
    "$$ u(x,y) = e^{1 + y} \\text{ for } x = 1, y \\in \\delta\\Omega \\setminus \\Gamma_1 $$\n",
    "$$ u(x,y) = e^{x + 1} \\text{ for } y = 1, x \\in \\delta\\Omega \\setminus \\Gamma_1 $$\n",
    "$$ \\nabla u(x,y) \\cdot \\hat{\\mathbf{n}} = -e^{x - 1} \\text{ for } y = -1, x \\in \\Gamma_1 \\subseteq \\delta\\Omega$$\n",
    "\n",
    "Let us define our necessary functions"
   ]
  },
  {
   "cell_type": "code",
   "execution_count": 2,
   "metadata": {},
   "outputs": [],
   "source": [
    "import numpy as np\n",
    "\n",
    "\n",
    "def coefficient_function(coords):\n",
    "    return 1\n",
    "\n",
    "\n",
    "def source_function(coord):\n",
    "    x, y = coord\n",
    "    return -2 * np.exp(x + y)\n",
    "\n",
    "\n",
    "def dirichlet_function(coord):\n",
    "    x, y = coord\n",
    "    if x == -1:\n",
    "        return np.exp(-1 + y)\n",
    "    elif x == 1:\n",
    "        return np.exp(1 + y)\n",
    "    elif y == 1:\n",
    "        return np.exp(x + 1)\n",
    "    elif y == -1:\n",
    "        return np.exp(x - 1)\n",
    "\n",
    "\n",
    "def neumann_function(coord):\n",
    "    x, y = coord\n",
    "    if y == -1:\n",
    "        return -np.exp(x - 1)"
   ]
  },
  {
   "cell_type": "markdown",
   "metadata": {},
   "source": [
    "Let's choose a linear basis for our problem and set up our grid to have step sizes of $h_1 = h_2 = 1/4.$"
   ]
  },
  {
   "cell_type": "code",
   "execution_count": 3,
   "metadata": {},
   "outputs": [],
   "source": [
    "basis = FEMpy.TriangularBasis2D('linear')\n",
    "mesh = FEMpy.TriangularMesh2D(-1, 1, -1, 1, h1=1/4, h2=1/4, basis_type='linear')"
   ]
  },
  {
   "cell_type": "markdown",
   "metadata": {},
   "source": [
    "Before we can set up our boundary conditions, we will need to define our boundary node and edge types. These can most easily be done by a list of strings indicating the boundary condition type for each boundary node and edge, respectively."
   ]
  },
  {
   "cell_type": "code",
   "execution_count": 4,
   "metadata": {},
   "outputs": [],
   "source": [
    "boundary_node_types = ['dirichlet', *['neumann']*7, *['dirichlet']*9, *['dirichlet']*8, *['dirichlet']*7]\n",
    "boundary_edge_types = [*['neumann']*8, *['dirichlet']*8, *['dirichlet']*8, *['dirichlet']*8]"
   ]
  },
  {
   "cell_type": "markdown",
   "metadata": {},
   "source": [
    "Now, we can define our boundary conditions, remembering to include the test basis function and the coefficient function since we have Neumann boundary conditions."
   ]
  },
  {
   "cell_type": "code",
   "execution_count": 5,
   "metadata": {},
   "outputs": [],
   "source": [
    "bcs = FEMpy.BoundaryConditions2D(mesh, boundary_node_types, boundary_edge_types, \n",
    "                                 test_basis=basis, \n",
    "                                 dirichlet_fun=dirichlet_function, \n",
    "                                 neumann_fun=neumann_function, \n",
    "                                 coeff_fun=coefficient_function)"
   ]
  },
  {
   "cell_type": "markdown",
   "metadata": {},
   "source": [
    "We can input our mesh, basis functions, and boundary conditions into our Poisson equation and call our solver:"
   ]
  },
  {
   "cell_type": "code",
   "execution_count": 6,
   "metadata": {},
   "outputs": [
    {
     "data": {
      "text/plain": [
       "array([0.13533528, 0.17377394, 0.22313016, 0.2865048 , 0.36787944,\n       0.47236655, 0.60653066, 0.77880078, 1.        , 0.17325304,\n       0.22277292, 0.28625562, 0.36770659, 0.47224895, 0.60645367,\n       0.77875452, 0.99997833, 1.28402542, 0.22221544, 0.28584593,\n       0.36741281, 0.47204193, 0.60631008, 0.77865671, 0.99991359,\n       1.28398499, 1.64872127, 0.28526803, 0.36698257, 0.4717327 ,\n       0.60609224, 0.77850475, 0.99980769, 1.28391054, 1.64866766,\n       2.11700002, 0.36639009, 0.47130853, 0.60579719, 0.7783016 ,\n       0.99966716, 1.28381118, 1.64859408, 2.11694086, 2.71828183,\n       0.47072395, 0.60541827, 0.77805796, 0.99950801, 1.28370351,\n       1.64851667, 2.11687951, 2.71822603, 3.49034296, 0.60490964,\n       0.77779468, 0.99936654, 1.28362138, 1.64846308, 2.11683828,\n       2.71818738, 3.49029942, 4.48168907, 0.77755761, 0.99934246,\n       1.28364454, 1.64848877, 2.11685491, 2.71819212, 3.49029095,\n       4.48166518, 5.75460268, 1.        , 1.28402542, 1.64872127,\n       2.11700002, 2.71828183, 3.49034296, 4.48168907, 5.75460268,\n       7.3890561 ])"
      ]
     },
     "execution_count": 6,
     "metadata": {},
     "output_type": "execute_result"
    }
   ],
   "source": [
    "poisson_eq = FEMpy.Poisson2D(mesh, fe_test_basis=basis, fe_trial_basis=basis, boundary_conditions=bcs)\n",
    "poisson_eq.solve(coefficient_function, source_function)"
   ]
  },
  {
   "cell_type": "markdown",
   "metadata": {},
   "source": [
    "We can also look at the $L^\\infty$ and $L^2$ norm errors as well as the $H^1$ semi-norm error associated with our solution as compared against the analytical solution of\n",
    "\n",
    "$$ u(x,y) = e^{x + y}$$\n"
   ]
  },
  {
   "cell_type": "code",
   "execution_count": 7,
   "metadata": {},
   "outputs": [
    {
     "data": {
      "text/latex": [
       "$$\\|L^\\infty\\| = 3.176e+00$$"
      ],
      "text/plain": [
       "<IPython.core.display.Math object>"
      ]
     },
     "metadata": {},
     "output_type": "display_data"
    },
    {
     "data": {
      "text/latex": [
       "$$\\|L^2\\| = 7.357e-04$$"
      ],
      "text/plain": [
       "<IPython.core.display.Math object>"
      ]
     },
     "metadata": {},
     "output_type": "display_data"
    },
    {
     "data": {
      "text/latex": [
       "$$|H^1| = 1.417e-02$$"
      ],
      "text/plain": [
       "<IPython.core.display.Math object>"
      ]
     },
     "metadata": {},
     "output_type": "display_data"
    }
   ],
   "source": [
    "def analytic_solution(coord):\n",
    "    x, y = coord\n",
    "    return np.exp(x + y)\n",
    "\n",
    "\n",
    "def dx_analytic_solution(coord):\n",
    "    x, y = coord\n",
    "    return np.exp(x + y)\n",
    "\n",
    "\n",
    "def dy_analytic_solution(coord):\n",
    "    x, y = coord\n",
    "    return np.exp(x + y)\n",
    "\n",
    "\n",
    "L_inf_err = poisson_eq.l_inf_error(analytic_solution)\n",
    "L_2_err = poisson_eq.l2_error(analytic_solution)\n",
    "H_1_err = poisson_eq.h1_seminorm_error((dx_analytic_solution, dy_analytic_solution))\n",
    "\n",
    "from IPython.display import display, Math\n",
    "display(Math('\\|L^\\infty\\| = {l_inf:.3e}'.format(l_inf=L_inf_err)))\n",
    "display(Math('\\|L^2\\| = {l_2:.3e}'.format(l_2=L_2_err)))\n",
    "display(Math('|H^1| = {h_1:.3e}'.format(h_1=H_1_err)))"
   ]
  }
 ],
 "metadata": {
  "kernelspec": {
   "display_name": "Python 2",
   "language": "python",
   "name": "python2"
  },
  "language_info": {
   "codemirror_mode": {
    "name": "ipython",
    "version": 2
   },
   "file_extension": ".py",
   "mimetype": "text/x-python",
   "name": "python",
   "nbconvert_exporter": "python",
   "pygments_lexer": "ipython2",
   "version": "2.7.6"
  }
 },
 "nbformat": 4,
 "nbformat_minor": 0
}
