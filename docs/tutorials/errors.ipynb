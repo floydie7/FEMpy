{
 "cells": [
  {
   "cell_type": "markdown",
   "metadata": {
    "collapsed": true
   },
   "source": [
    ".. _errors\n",
    "\n",
    "Error calculations\n",
    "==================\n",
    "\n",
    "FEMpy provides the ability to compute the $L^\\infty$ and $L^2$ norm errors as well as the $H^1$ semi-norm error. \n",
    "\n",
    "This tutorial was made with the following version of FEMpy:\t"
   ]
  },
  {
   "cell_type": "code",
   "execution_count": 1,
   "metadata": {},
   "outputs": [
    {
     "data": {
      "text/plain": [
       "'1.0'"
      ]
     },
     "execution_count": 1,
     "metadata": {},
     "output_type": "execute_result"
    }
   ],
   "source": [
    "import FEMpy\n",
    "FEMpy.__version__"
   ]
  },
  {
   "cell_type": "markdown",
   "metadata": {},
   "source": [
    "Let us examine the error of\n",
    "\n",
    "$$-\\frac{{\\rm d}}{{\\rm d} x} \\left( e^x \\frac{{\\rm d}}{{\\rm d} x} u(x)\\right) = -e^x [\\cos x -2\\sin x - x \\cos x - x \\sin x]; x \\in [0, 1]$$\n",
    "$$u(0) = 0, u'(1) = \\cos(1) - \\sin(1)$$\n",
    "\n",
    "as we vary the mesh step size $h$.\n"
   ]
  },
  {
   "cell_type": "code",
   "execution_count": 2,
   "metadata": {},
   "outputs": [],
   "source": [
    "import numpy as np\n",
    "\n",
    "\n",
    "def coefficient_function(x): \n",
    "    return  np.exp(x)\n",
    "\n",
    "\n",
    "def source_function(x):\n",
    "    return -np.exp(x) * (np.cos(x) - 2*np.sin(x) - x*np.cos(x) - x*np.sin(x))\n",
    "\n",
    "\n",
    "def dirichlet_function(x):\n",
    "    if x == 0:\n",
    "        return 0\n",
    "\n",
    "    \n",
    "def neumann_function(x):\n",
    "    if x == 1:\n",
    "        return np.cos(1) - np.sin(1)"
   ]
  },
  {
   "cell_type": "markdown",
   "metadata": {},
   "source": [
    "We will need the analytical solution to our problem for the $L^\\infty$ and $L^2$ norm errors and the derivative of the solution for the $H^1$ semi-norm."
   ]
  },
  {
   "cell_type": "code",
   "execution_count": 3,
   "metadata": {},
   "outputs": [],
   "source": [
    "def analytical_sol(x):\n",
    "    return x * np.cos(x)\n",
    "\n",
    "\n",
    "def dx_analytical_sol(x):\n",
    "    return np.cos(x) - x * np.sin(x)"
   ]
  },
  {
   "cell_type": "markdown",
   "metadata": {},
   "source": [
    "We will vary our mesh size for $h \\in  \\left\\{ \\frac{1}{4}, \\frac{1}{8}, \\frac{1}{16}, \\frac{1}{32}, \\frac{1}{128}, \\frac{1}{256} \\right\\}.$"
   ]
  },
  {
   "cell_type": "code",
   "execution_count": 4,
   "metadata": {},
   "outputs": [],
   "source": [
    "h_list = [1/(2**n) for n in np.arange(2, 9)]"
   ]
  },
  {
   "cell_type": "markdown",
   "metadata": {},
   "source": [
    "For our case we will use quadratic finite elements"
   ]
  },
  {
   "cell_type": "code",
   "execution_count": 5,
   "metadata": {},
   "outputs": [],
   "source": [
    "basis = FEMpy.IntervalBasis1D('quadratic')"
   ]
  },
  {
   "cell_type": "markdown",
   "metadata": {},
   "source": [
    "Now we can iterate through our mesh sizes and store our errors."
   ]
  },
  {
   "cell_type": "code",
   "execution_count": 6,
   "metadata": {},
   "outputs": [],
   "source": [
    "L_inf_err = []\n",
    "L2_err = []\n",
    "H1_err = []\n",
    "for h in h_list:\n",
    "    mesh = FEMpy.Interval1D(0, 1, h, 'quadratic')\n",
    "    bcs = FEMpy.BoundaryConditions(mesh, ('dirichlet', 'neumann'), dirichlet_fun=dirichlet_function, neumann_fun=neumann_function, coeff_fun=coefficient_function)\n",
    "    \n",
    "    poisson_eq = FEMpy.Poisson1D(mesh, fe_trial_basis=basis, fe_test_basis=basis, boundary_conditions=bcs)\n",
    "    poisson_eq.solve(coefficient_function, source_function)\n",
    "    \n",
    "    L_inf_err.append(poisson_eq.l_inf_error(analytical_sol))\n",
    "    L2_err.append(poisson_eq.l2_error(analytical_sol))\n",
    "    H1_err.append(poisson_eq.h1_seminorm_error(dx_analytical_sol))"
   ]
  },
  {
   "cell_type": "markdown",
   "metadata": {},
   "source": [
    "To display our results we can use a [pandas](https://pandas.pydata.org/)  dataframe or an [astropy](http://www.astropy.org/) table."
   ]
  },
  {
   "cell_type": "code",
   "execution_count": 7,
   "metadata": {},
   "outputs": [
    {
     "data": {
      "text/html": [
       "<i>Table length=7</i>\n",
       "<table id=\"table133885012620344\" class=\"table-striped table-bordered table-condensed\">\n",
       "<thead><tr><th>h</th><th>L_inf Norm Error</th><th>L_2 Norm Error</th><th>H_1 Semi-norm Error</th></tr></thead>\n",
       "<thead><tr><th>float64</th><th>float64</th><th>float64</th><th>float64</th></tr></thead>\n",
       "<tr><td>0.2500</td><td>3.3279e-04</td><td>2.1050e-04</td><td>5.4213e-03</td></tr>\n",
       "<tr><td>0.1250</td><td>3.9288e-05</td><td>2.6147e-05</td><td>1.3534e-03</td></tr>\n",
       "<tr><td>0.0625</td><td>4.7533e-06</td><td>3.2632e-06</td><td>3.3823e-04</td></tr>\n",
       "<tr><td>0.0312</td><td>5.8395e-07</td><td>4.0774e-07</td><td>8.4550e-05</td></tr>\n",
       "<tr><td>0.0156</td><td>7.2344e-08</td><td>5.0962e-08</td><td>2.1137e-05</td></tr>\n",
       "<tr><td>0.0078</td><td>9.0022e-09</td><td>6.3701e-09</td><td>5.2842e-06</td></tr>\n",
       "<tr><td>0.0039</td><td>1.1227e-09</td><td>7.9626e-10</td><td>1.3211e-06</td></tr>\n",
       "</table>"
      ],
      "text/plain": [
       "<i>Table length=7</i>\n",
       "<table id=\"table133885012620344\" class=\"table-striped table-bordered table-condensed\">\n",
       "<thead><tr><th>h</th><th>L_inf Norm Error</th><th>L_2 Norm Error</th><th>H_1 Semi-norm Error</th></tr></thead>\n",
       "<thead><tr><th>float64</th><th>float64</th><th>float64</th><th>float64</th></tr></thead>\n",
       "<tr><td>0.2500</td><td>3.3279e-04</td><td>2.1050e-04</td><td>5.4213e-03</td></tr>\n",
       "<tr><td>0.1250</td><td>3.9288e-05</td><td>2.6147e-05</td><td>1.3534e-03</td></tr>\n",
       "<tr><td>0.0625</td><td>4.7533e-06</td><td>3.2632e-06</td><td>3.3823e-04</td></tr>\n",
       "<tr><td>0.0312</td><td>5.8395e-07</td><td>4.0774e-07</td><td>8.4550e-05</td></tr>\n",
       "<tr><td>0.0156</td><td>7.2344e-08</td><td>5.0962e-08</td><td>2.1137e-05</td></tr>\n",
       "<tr><td>0.0078</td><td>9.0022e-09</td><td>6.3701e-09</td><td>5.2842e-06</td></tr>\n",
       "<tr><td>0.0039</td><td>1.1227e-09</td><td>7.9626e-10</td><td>1.3211e-06</td></tr>\n",
       "</table>"
      ]
     },
     "execution_count": 7,
     "metadata": {},
     "output_type": "execute_result"
    }
   ],
   "source": [
    "from astropy.table import Table\n",
    "\n",
    "error_table = Table([h_list, L_inf_err, L2_err, H1_err], names=['h', 'L_inf Norm Error', 'L_2 Norm Error', 'H_1 Semi-norm Error'],)\n",
    "error_table['h'].format = '.4f'; error_table['L_inf Norm Error'].format = '.4e'; error_table['L_2 Norm Error'].format = '.4e'; error_table['H_1 Semi-norm Error'].format = '.4e'\n",
    "error_table"
   ]
  }
 ],
 "metadata": {
  "kernelspec": {
   "display_name": "Python 2",
   "language": "python",
   "name": "python2"
  },
  "language_info": {
   "codemirror_mode": {
    "name": "ipython",
    "version": 2
   },
   "file_extension": ".py",
   "mimetype": "text/x-python",
   "name": "python",
   "nbconvert_exporter": "python",
   "pygments_lexer": "ipython2",
   "version": "2.7.6"
  }
 },
 "nbformat": 4,
 "nbformat_minor": 0
}
